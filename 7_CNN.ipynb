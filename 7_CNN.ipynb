{
  "nbformat": 4,
  "nbformat_minor": 0,
  "metadata": {
    "colab": {
      "provenance": [],
      "mount_file_id": "1v7U5CQfuFTX09HLUXvxUYNscYQxCIdAc",
      "authorship_tag": "ABX9TyNZsabEoPbDFw/rVjZrX08O",
      "include_colab_link": true
    },
    "kernelspec": {
      "name": "python3",
      "display_name": "Python 3"
    },
    "language_info": {
      "name": "python"
    }
  },
  "cells": [
    {
      "cell_type": "markdown",
      "metadata": {
        "id": "view-in-github",
        "colab_type": "text"
      },
      "source": [
        "<a href=\"https://colab.research.google.com/github/jiansim03/colab/blob/main/7_CNN.ipynb\" target=\"_parent\"><img src=\"https://colab.research.google.com/assets/colab-badge.svg\" alt=\"Open In Colab\"/></a>"
      ]
    },
    {
      "cell_type": "code",
      "source": [
        "# im2col\n",
        "\n",
        "# coding: utf-8\n",
        "import numpy as np\n",
        "\n",
        "\n",
        "def smooth_curve(x):\n",
        "    \"\"\"손실 함수의 그래프를 매끄럽게 하기 위해 사용\n",
        "\n",
        "    참고：http://glowingpython.blogspot.jp/2012/02/convolution-with-numpy.html\n",
        "    \"\"\"\n",
        "    window_len = 11\n",
        "    s = np.r_[x[window_len-1:0:-1], x, x[-1:-window_len:-1]]\n",
        "    w = np.kaiser(window_len, 2)\n",
        "    y = np.convolve(w/w.sum(), s, mode='valid')\n",
        "    return y[5:len(y)-5]\n",
        "\n",
        "\n",
        "def shuffle_dataset(x, t):\n",
        "    \"\"\"데이터셋을 뒤섞는다.\n",
        "\n",
        "    Parameters\n",
        "    ----------\n",
        "    x : 훈련 데이터\n",
        "    t : 정답 레이블\n",
        "\n",
        "    Returns\n",
        "    -------\n",
        "    x, t : 뒤섞은 훈련 데이터와 정답 레이블\n",
        "    \"\"\"\n",
        "    permutation = np.random.permutation(x.shape[0])\n",
        "    x = x[permutation,:] if x.ndim == 2 else x[permutation,:,:,:]\n",
        "    t = t[permutation]\n",
        "\n",
        "    return x, t\n",
        "\n",
        "def conv_output_size(input_size, filter_size, stride=1, pad=0):\n",
        "    return (input_size + 2*pad - filter_size) / stride + 1\n",
        "\n",
        "\n",
        "def im2col(input_data, filter_h, filter_w, stride=1, pad=0):\n",
        "    \"\"\"다수의 이미지를 입력받아 2차원 배열로 변환한다(평탄화).\n",
        "\n",
        "    Parameters\n",
        "    ----------\n",
        "    input_data : 4차원 배열 형태의 입력 데이터(이미지 수, 채널 수, 높이, 너비)\n",
        "    filter_h : 필터의 높이\n",
        "    filter_w : 필터의 너비\n",
        "    stride : 스트라이드\n",
        "    pad : 패딩\n",
        "\n",
        "    Returns\n",
        "    -------\n",
        "    col : 2차원 배열\n",
        "    \"\"\"\n",
        "    N, C, H, W = input_data.shape\n",
        "    out_h = (H + 2*pad - filter_h)//stride + 1\n",
        "    out_w = (W + 2*pad - filter_w)//stride + 1\n",
        "\n",
        "    img = np.pad(input_data, [(0,0), (0,0), (pad, pad), (pad, pad)], 'constant')\n",
        "    col = np.zeros((N, C, filter_h, filter_w, out_h, out_w))\n",
        "\n",
        "    for y in range(filter_h):\n",
        "        y_max = y + stride*out_h\n",
        "        for x in range(filter_w):\n",
        "            x_max = x + stride*out_w\n",
        "            col[:, :, y, x, :, :] = img[:, :, y:y_max:stride, x:x_max:stride]\n",
        "\n",
        "    col = col.transpose(0, 4, 5, 1, 2, 3).reshape(N*out_h*out_w, -1)\n",
        "    return col\n",
        "\n",
        "\n",
        "def col2im(col, input_shape, filter_h, filter_w, stride=1, pad=0):\n",
        "    \"\"\"(im2col과 반대) 2차원 배열을 입력받아 다수의 이미지 묶음으로 변환한다.\n",
        "\n",
        "    Parameters\n",
        "    ----------\n",
        "    col : 2차원 배열(입력 데이터)\n",
        "    input_shape : 원래 이미지 데이터의 형상（예：(10, 1, 28, 28)）\n",
        "    filter_h : 필터의 높이\n",
        "    filter_w : 필터의 너비\n",
        "    stride : 스트라이드\n",
        "    pad : 패딩\n",
        "\n",
        "    Returns\n",
        "    -------\n",
        "    img : 변환된 이미지들\n",
        "    \"\"\"\n",
        "    N, C, H, W = input_shape\n",
        "    out_h = (H + 2*pad - filter_h)//stride + 1\n",
        "    out_w = (W + 2*pad - filter_w)//stride + 1\n",
        "    col = col.reshape(N, out_h, out_w, C, filter_h, filter_w).transpose(0, 3, 4, 5, 1, 2)\n",
        "\n",
        "    img = np.zeros((N, C, H + 2*pad + stride - 1, W + 2*pad + stride - 1))\n",
        "    for y in range(filter_h):\n",
        "        y_max = y + stride*out_h\n",
        "        for x in range(filter_w):\n",
        "            x_max = x + stride*out_w\n",
        "            img[:, :, y:y_max:stride, x:x_max:stride] += col[:, :, y, x, :, :]\n",
        "\n",
        "    return img[:, :, pad:H + pad, pad:W + pad]"
      ],
      "metadata": {
        "id": "VPfy51_cPwsb"
      },
      "execution_count": 8,
      "outputs": []
    },
    {
      "cell_type": "code",
      "source": [
        "x1 = np.random.rand(1, 3, 7, 7) # 입력데이터 (데이터수, 채널수, 높이, 너비)\n",
        "col1 = im2col(x1, 5, 5, stride=1, pad=0)\n",
        "col1.shape"
      ],
      "metadata": {
        "id": "WIa4xXwndKzu",
        "colab": {
          "base_uri": "https://localhost:8080/"
        },
        "outputId": "016d60c6-9a03-4205-e9b5-86e011d5e82f"
      },
      "execution_count": 9,
      "outputs": [
        {
          "output_type": "execute_result",
          "data": {
            "text/plain": [
              "(9, 75)"
            ]
          },
          "metadata": {},
          "execution_count": 9
        }
      ]
    },
    {
      "cell_type": "code",
      "source": [
        "x2 = np.random.rand(10, 3, 7, 7) # 입력데이터 (데이터수, 채널수, 높이, 너비)\n",
        "col2 = im2col(x2, 5, 5, stride=2, pad=0)\n",
        "col2.shape"
      ],
      "metadata": {
        "colab": {
          "base_uri": "https://localhost:8080/"
        },
        "id": "dlnmJfNMUarh",
        "outputId": "4bc41edf-6e71-4c64-f548-51daf717a411"
      },
      "execution_count": 10,
      "outputs": [
        {
          "output_type": "execute_result",
          "data": {
            "text/plain": [
              "(40, 75)"
            ]
          },
          "metadata": {},
          "execution_count": 10
        }
      ]
    },
    {
      "cell_type": "markdown",
      "source": [
        "### Affine 계층 구현\n",
        "완전연결계층 구현"
      ],
      "metadata": {
        "id": "PInaXlpbMhvB"
      }
    },
    {
      "cell_type": "code",
      "source": [
        "class Affine:\n",
        "  def __init__(self, w, b) : # 초기화\n",
        "    self.W = w\n",
        "    self.b =b\n",
        "    self.x = None\n",
        "    self.dW = None\n",
        "    self.db = None\n",
        "\n",
        "  def forward(self, x): # 순전파\n",
        "    self.x = x\n",
        "    out = np.dot(x, self.w) + self.b # 행렬곱 x * 가중치 + 편향\n",
        "\n",
        "    return out\n",
        "\n",
        "  def backward(self, dout): # dout -> 업스트림\n",
        "    dx = np.dot(dout, self.W.T) # 역전파의 곱 : 순전파 입력 신호를 서로 바꾼값을 곱\n",
        "    self.dW = np.dot(self.x.T, dout)\n",
        "    self.db = np.sum(dout, axis=0)\n",
        "\n",
        "    return dx"
      ],
      "metadata": {
        "id": "i0ocNQbjMluV"
      },
      "execution_count": 11,
      "outputs": []
    },
    {
      "cell_type": "markdown",
      "source": [
        "### 소프트맥스 계층"
      ],
      "metadata": {
        "id": "zihzp4rOBDqt"
      }
    },
    {
      "cell_type": "code",
      "source": [
        "def Softmax(a):\n",
        "  exp_a = np.exp(a)\n",
        "  sum_exp_a = np.sum(exp_a)\n",
        "  y=exp_a / sum(exp_a)\n",
        "\n",
        "  return y"
      ],
      "metadata": {
        "id": "mhYmlz_dBGVE"
      },
      "execution_count": 13,
      "outputs": []
    },
    {
      "cell_type": "markdown",
      "source": [
        "### cross entropy 계층"
      ],
      "metadata": {
        "id": "uILDdlfAA5mU"
      }
    },
    {
      "cell_type": "code",
      "source": [
        "def cross_entropy_error(y, t):\n",
        "  delta = 1e-7\n",
        "  return -np.sum(t * np.log ( y + delta ))"
      ],
      "metadata": {
        "id": "5WxG9oA7Aeyj"
      },
      "execution_count": 14,
      "outputs": []
    },
    {
      "cell_type": "markdown",
      "source": [
        "### Softmax-with-Loss 계층\n",
        "정답레이블이 여러개일때의 손실함수  \n",
        "각 원소가 정답일 확률(소프트맥스)과 정답에 대한 차를 레이블 각각에 대해 구한다"
      ],
      "metadata": {
        "id": "zJCEH8FK9i3f"
      }
    },
    {
      "cell_type": "code",
      "source": [
        "class SoftmaxWithLoss:\n",
        "  def __init__(self):\n",
        "    self.loss = None # 손실\n",
        "    self.y = None # softmax의 출력\n",
        "    self.t = None # 정답레이블 (원-핫)\n",
        "\n",
        "  def forward(self, x, t):\n",
        "    self.t = t\n",
        "    self.y = softmax(x)\n",
        "    self.loss = cross_entropy_error(self.y, self.t)\n",
        "    return self.loss\n",
        "\n",
        "  def backward(self, dout=1):\n",
        "    batch_size = self.t.shape\n",
        "    dx = (self.y - self.t) / batch_size\n",
        "\n",
        "    return dx\n",
        "\n",
        "\n"
      ],
      "metadata": {
        "id": "vccpLfMD-69R"
      },
      "execution_count": 15,
      "outputs": []
    },
    {
      "cell_type": "markdown",
      "source": [
        "### 합성곱계층 구현하기"
      ],
      "metadata": {
        "id": "po5FGzP3VElF"
      }
    },
    {
      "cell_type": "code",
      "source": [
        "class Convolution:\n",
        "  def __init__(self, W, b, stride=1, pad=0):\n",
        "    self.W = W\n",
        "    self.b = b\n",
        "    self.stride = stride\n",
        "    self.pad = pad\n",
        "\n",
        "  def forward(self, x): # 순전파\n",
        "    FN, C, FH, FW = self.W.shape # 필터개수, 채널, 필터 높이, 필터 너비를 인풋의 형태로\n",
        "    N, C, H, W = x.shape # 갯수, 채널, 높이, 너비\n",
        "    out_h = int(1 + (H + 2*self.pad - FH) / self.stride)\n",
        "    out_w = int(1 + (W + 2*self.pad - FW) / self.stride)\n",
        "\n",
        "    col = im2col(x, FH, FW, self.stride, self.pad)\n",
        "    col_W = self.W.reshape(FN, -1).T # 필터 전개\n",
        "    out = np.dot(col, col_W) + self.b # 이미지 * 필터\n",
        "\n",
        "    out = out.reshape(N, out_h, out_w, -1).transpose(0, 3, 1, 2)\n",
        "\n",
        "    return out"
      ],
      "metadata": {
        "id": "i179qTlxZhgy"
      },
      "execution_count": 16,
      "outputs": []
    },
    {
      "cell_type": "markdown",
      "source": [
        "### 풀링계층 구현하기\n",
        "1. 입력데이터 전개하기\n",
        "2. 행(윈도우)별 최댓값 구하기\n",
        "3. 적절히 성형해주기"
      ],
      "metadata": {
        "id": "XOdH2Cih5Pp_"
      }
    },
    {
      "cell_type": "code",
      "source": [
        "class Pooling:\n",
        "  def __init__(self, pool_h, pool_w, stride=1, pad=0):\n",
        "    self.pool_h = pool_h\n",
        "    self.pool_w = pool_w\n",
        "    self.stride = stride\n",
        "    self.pad = pad\n",
        "\n",
        "  def forward(self, x):\n",
        "    N, C, H, W = x.shape\n",
        "    out_h = int(1 + (H - self.pool_h) / self.stride)\n",
        "    out_w = int(1 + (W - self.pool_w) / self.stride)\n",
        "\n",
        "    # 전개 (1)\n",
        "    col = im2col(x, self.pool_h, self.pool_w, self.stride, self.pad)\n",
        "    col = col.reshpe(-1, self.pool_h*self.pool_w)\n",
        "\n",
        "    # 최댓값 (2)\n",
        "    out = np.max(col, axis=1)\n",
        "\n",
        "    # 성형 (3)\n",
        "    out = out.reshape(N, out_h, out_w, C).transposse(0,3,1,2)\n",
        "\n",
        "    return out"
      ],
      "metadata": {
        "id": "tEM0QPTj7gJY"
      },
      "execution_count": 17,
      "outputs": []
    },
    {
      "cell_type": "markdown",
      "source": [
        "### CNN 구현하기"
      ],
      "metadata": {
        "id": "R2IwmdcADx-z"
      }
    },
    {
      "cell_type": "code",
      "source": [
        "# SimpleConvNet초기화\n",
        "# 1.1. 초기화 인수로 주어진 컨볼루션 계층의 하이퍼 파라미터를 딕셔너리에 꺼낸다.\n",
        "# 1.2. 컨볼루션 계층의 출력크기를 계산한다\n",
        "\n",
        "from collections import OrderedDict  # collections 모듈 임포트\n",
        "\n",
        "class SimpleConvNet:\n",
        "  def __init__(self, input_dim=(1, 28, 28),\n",
        "               conv_param={'filter_num' :30, 'filter_size':5, 'pad' : 0, 'stride':1},\n",
        "               hidden_size=100, output_size=10, weight_init_std=0.01) :\n",
        "\n",
        "    filter_num = conv_param['filter_num']\n",
        "    filter_size = conv_param['filter_size']\n",
        "    filter_pad = conv_param['pad']\n",
        "    filter_stride = conv_param['stride']\n",
        "    intput_size = input_dim[1]\n",
        "    conv_output_size = (intput_size - filter_size + 2 * filter_pad) / filter_stride + 1 # 컨볼루션 후 사이즈\n",
        "    pool_output_size = int(filter_num * (conv_output_size/2) * (conv_output_size/2))\n",
        "\n",
        "    # --------- 가중치 매개변수 초기화 ---------\n",
        "    # 1(CNN), 2,3(어파인) 계층의 매개변수를 초기화한다\n",
        "    self.params = {}\n",
        "    # 1번째(CNN) 계층의 가중치, 편향\n",
        "    self.params['W1'] = weight_init_std * np.random.randn(filter_num, input_dim[0], filter_size, filter_size)\n",
        "    self.params['b1'] = np.zeros(filter_num)\n",
        "    # 2번째(affine) 계층의 가중치, 편향\n",
        "    self.params['W2'] = weight_init_std * np.random.randn(pool_output_size,hidden_size)\n",
        "    self.params['b2'] = np.zeros(hidden_size)\n",
        "    # 2번째(affine) 계층의 가중치, 편향\n",
        "    self.params['W3'] = weight_init_std * np.random.randn(hidden_size, output_size)\n",
        "    self.params['b3'] = np.zeros(output_size)\n",
        "\n",
        "\n",
        "# CNN 구성하는 계층들 생성\n",
        "\n",
        "    self.layers = OrderedDict() # 딕셔너리의 아이템이 삽입된 순서대로 유지\n",
        "    self.layers['Conv1'] = Convolution(self.params['W1'], self.params['b1'], conv_param['stride'], conv_param['pad'])\n",
        "    self.layers['Relu1'] = Relu()\n",
        "    self.layers['Pool1'] = Pooling(pool_h = 2, Pool_w =2, stride=2)\n",
        "    self.layers['Affine1'] = Affine(self.params['W2'], self.params['b2'])\n",
        "    self.layers['Relu2'] = Relu()\n",
        "    self.layers['Affine2'] = Affine(self.params['W3'], self.params['b3'])\n",
        "    self.last_layer = SoftmaxWithLoss()\n",
        "\n",
        "  # 추론\n",
        "  def predict(self, x):\n",
        "    for layer in self.layers.values(): # 첫번째 레이어부터 순차적으로 수행하며 결과를 x에 할당 후 다음 레이어 전달\n",
        "      x = layer.forward\n",
        "    return x\n",
        "\n",
        "  # 손실함수\n",
        "  def loss(self, x, t):\n",
        "    y = self.predit(x)\n",
        "    return self.last_layer.forward(y,t) # 정답과 예측의 오차 구해 확률 구한다(SoftmaxWithLoss)"
      ],
      "metadata": {
        "id": "F5u7Q0xuD0kA"
      },
      "execution_count": 69,
      "outputs": []
    },
    {
      "cell_type": "code",
      "source": [
        "# 오차역전파법으로 기울기 구하기\n",
        "\n",
        "def gradient(self, x, t):\n",
        "  # 순전파\n",
        "  self.loss(x,t)\n",
        "\n",
        "  # 역전파\n",
        "  dout = 1\n",
        "  dout = self.last_layer.backward(dout)  # 상류 값을 역전파 함수에 넣은 결과를 다시 dout에 넣는다\n",
        "\n",
        "  layers = list(self, layers. values()) # 각 레이어 딕셔너리의 밸류값을 한 리스트에 넣는다\n",
        "  layers.reverse() # 레이어의 순서를 뒤짚는다\n",
        "  for layer in layers: # 레이어 리스트 갯수만큼, 레이어의 백워드 함수에 상류의 값을 넣은 것을 dout에 재할당한다\n",
        "    dout = layer.backward(dout)\n",
        "\n",
        "  # 결과 저장\n",
        "  grads = {}\n",
        "  grads['W1'] = self.layers['Conv1'].dW\n",
        "  grads['b1'] = self.layers['Conv1'].db\n",
        "  grads['W2'] = self.layers['Affine1'].dW\n",
        "  grads['b2'] = self.layers['Affine1'].db\n",
        "  grads['W3'] = self.layers['Affine2'].dW\n",
        "  grads['b3'] = self.layers['Affine2'].db\n",
        "\n",
        "  return grads"
      ],
      "metadata": {
        "id": "z_73byzvHNRn"
      },
      "execution_count": 70,
      "outputs": []
    }
  ]
}