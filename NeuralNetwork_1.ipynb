{
  "nbformat": 4,
  "nbformat_minor": 0,
  "metadata": {
    "colab": {
      "provenance": [],
      "authorship_tag": "ABX9TyPbSdzm5MRzJ2r8V6t1/awA"
    },
    "kernelspec": {
      "name": "python3",
      "display_name": "Python 3"
    },
    "language_info": {
      "name": "python"
    }
  },
  "cells": [
    {
      "cell_type": "markdown",
      "source": [
        "### 계단함수 구현하기\n",
        "특정 값 이상일 때 1을 출력하는 함수를 계단함수라고 한다"
      ],
      "metadata": {
        "id": "gtw3z5s90EXS"
      }
    },
    {
      "cell_type": "code",
      "execution_count": 101,
      "metadata": {
        "id": "5vQGHM3Izuez"
      },
      "outputs": [],
      "source": [
        "def step_function(x):\n",
        "  if x>0 :\n",
        "    return 1\n",
        "  else :\n",
        "    return 0"
      ]
    },
    {
      "cell_type": "code",
      "source": [
        "# step_function(10)\n",
        "step_function(-0.6)"
      ],
      "metadata": {
        "colab": {
          "base_uri": "https://localhost:8080/",
          "height": 0
        },
        "id": "lSdRh7Kw0Gwg",
        "outputId": "c28fe440-989d-40a8-cf85-e2d96ff5c2c9"
      },
      "execution_count": 102,
      "outputs": [
        {
          "output_type": "execute_result",
          "data": {
            "text/plain": [
              "0"
            ]
          },
          "metadata": {},
          "execution_count": 102
        }
      ]
    },
    {
      "cell_type": "code",
      "source": [
        "# 파라미터로 넘파이 배열도 받도록 수정해보자\n",
        "import numpy as np\n",
        "def step_function(x) :\n",
        "  y= x>0\n",
        "  return y.astype(np.int)\n"
      ],
      "metadata": {
        "id": "g-WLvDOE0JDv"
      },
      "execution_count": 103,
      "outputs": []
    },
    {
      "cell_type": "markdown",
      "source": [
        "### 넘파이 배열에 부등호 연산하기\n",
        "넘파이 배열에 부등호 연산을 할 경우 연산 결과가 담긴 **bool 배열**이 생성된다"
      ],
      "metadata": {
        "id": "yz2cqMGp4MQ-"
      }
    },
    {
      "cell_type": "code",
      "source": [
        "# 넘파이 배열인 x의 값을 지정해보자\n",
        "x = np.array([-1.0, 1.0, 2.0])\n",
        "x\n",
        "\n",
        "# x에 부등호 연산을 수행\n",
        "y = x > 0\n",
        "y"
      ],
      "metadata": {
        "colab": {
          "base_uri": "https://localhost:8080/",
          "height": 0
        },
        "id": "xcFWmjoI1j_g",
        "outputId": "66a6854f-e943-45ae-954c-db7b143b88d2"
      },
      "execution_count": 104,
      "outputs": [
        {
          "output_type": "execute_result",
          "data": {
            "text/plain": [
              "array([False,  True,  True])"
            ]
          },
          "metadata": {},
          "execution_count": 104
        }
      ]
    },
    {
      "cell_type": "code",
      "source": [
        "# 위 값을 int형으로 변환해주자\n",
        "# 배열 내 bool값이 int타입으로 바뀐다\n",
        "y = y.astype(int)\n",
        "y"
      ],
      "metadata": {
        "colab": {
          "base_uri": "https://localhost:8080/",
          "height": 0
        },
        "id": "wdLsAvgZ4DDM",
        "outputId": "80448f4f-f307-49d5-ebd9-3c1557963743"
      },
      "execution_count": 105,
      "outputs": [
        {
          "output_type": "execute_result",
          "data": {
            "text/plain": [
              "array([0, 1, 1])"
            ]
          },
          "metadata": {},
          "execution_count": 105
        }
      ]
    },
    {
      "cell_type": "markdown",
      "source": [
        "### 3.2.3. 계단함수의 그래프\n",
        "위에서 정의한 함수로 그래프를 그려보자"
      ],
      "metadata": {
        "id": "SvpaNXKI4oud"
      }
    },
    {
      "cell_type": "code",
      "source": [
        "import numpy as np\n",
        "import matplotlib.pylab as plt\n",
        "\n",
        "def step_function(x):\n",
        "  return np.array(x>0 ,dtype=np.int)\n",
        "\n",
        "x = np.arange(-5.0, 5.0, 0.1)\n",
        "y = step_function(x) # 배열을 계단함수에 넣어준다\n",
        "\n",
        "plt.plot(x,y)\n",
        "plt.ylim(-0.1, 1.1) # y축 범위 지정한다\n",
        "plt.show()"
      ],
      "metadata": {
        "colab": {
          "base_uri": "https://localhost:8080/",
          "height": 502
        },
        "id": "HVwfYQn25Gca",
        "outputId": "d8c60095-1f3a-45a9-cfd2-3d354093629f"
      },
      "execution_count": 106,
      "outputs": [
        {
          "output_type": "stream",
          "name": "stderr",
          "text": [
            "<ipython-input-106-8e3ff1977e3e>:5: DeprecationWarning: `np.int` is a deprecated alias for the builtin `int`. To silence this warning, use `int` by itself. Doing this will not modify any behavior and is safe. When replacing `np.int`, you may wish to use e.g. `np.int64` or `np.int32` to specify the precision. If you wish to review your current use, check the release note link for additional information.\n",
            "Deprecated in NumPy 1.20; for more details and guidance: https://numpy.org/devdocs/release/1.20.0-notes.html#deprecations\n",
            "  return np.array(x>0 ,dtype=np.int)\n"
          ]
        },
        {
          "output_type": "display_data",
          "data": {
            "text/plain": [
              "<Figure size 640x480 with 1 Axes>"
            ],
            "image/png": "[encoded data removed]"
          },
          "metadata": {}
        }
      ]
    },
    {
      "cell_type": "markdown",
      "source": [
        "### 시그모이드 함수 구현하기"
      ],
      "metadata": {
        "id": "xuKH2gdt6S2l"
      }
    },
    {
      "cell_type": "code",
      "source": [
        "def sigmoid(x):\n",
        "  return 1/(1+np.exp(-x))"
      ],
      "metadata": {
        "id": "gyHjK-bN7o6q"
      },
      "execution_count": 107,
      "outputs": []
    },
    {
      "cell_type": "code",
      "source": [
        "x = np.array([-1.0, 1.0, 2.0])\n",
        "sigmoid(x)\n",
        "\n",
        "# array([0.26894142, 0.73105858, 0.88079708]) # x의 원소를 시그모이드 함수에 하나하나 넣으면 이 값이 차례로 나온다"
      ],
      "metadata": {
        "colab": {
          "base_uri": "https://localhost:8080/",
          "height": 0
        },
        "id": "r8ZEwAae7vrj",
        "outputId": "3f287f70-7860-4064-cfe1-c655da5490cf"
      },
      "execution_count": 108,
      "outputs": [
        {
          "output_type": "execute_result",
          "data": {
            "text/plain": [
              "array([0.26894142, 0.73105858, 0.88079708])"
            ]
          },
          "metadata": {},
          "execution_count": 108
        }
      ]
    },
    {
      "cell_type": "markdown",
      "source": [
        "### BroadCasting\n",
        "넘파이 배열과 스칼라값을 연산하면, 넘파이 배열 원소 각각과 스칼라값을 연산한 값을 원소로 하는 배열을 반환한다"
      ],
      "metadata": {
        "id": "qZuek55-93VR"
      }
    },
    {
      "cell_type": "code",
      "source": [
        "t = np.array([1.0, 2.0, 3.0])\n",
        "1.0 + t\n",
        "# array([2., 3., 4.])\n",
        "1.0 / t\n",
        "# array([1.        , 0.5       , 0.33333333])"
      ],
      "metadata": {
        "colab": {
          "base_uri": "https://localhost:8080/",
          "height": 0
        },
        "id": "GL5t-5Ml-8WD",
        "outputId": "44c8d1e5-a038-48e7-8599-8229a62c75ae"
      },
      "execution_count": 109,
      "outputs": [
        {
          "output_type": "execute_result",
          "data": {
            "text/plain": [
              "array([1.        , 0.5       , 0.33333333])"
            ]
          },
          "metadata": {},
          "execution_count": 109
        }
      ]
    },
    {
      "cell_type": "code",
      "source": [
        "# 시그모이드함수를 그래프로 그려보자\n",
        "x = np.arange(-5.0, 5.0, 0.1)\n",
        "y = sigmoid(x)\n",
        "\n",
        "plt.plot(x,y)\n",
        "plt.ylim(-0.1, 1.1)\n",
        "plt.show()"
      ],
      "metadata": {
        "colab": {
          "base_uri": "https://localhost:8080/",
          "height": 430
        },
        "id": "Gju73qTS_Dnn",
        "outputId": "fe47233b-42ca-4fed-cbe3-1a7f0e73a63a"
      },
      "execution_count": 110,
      "outputs": [
        {
          "output_type": "display_data",
          "data": {
            "text/plain": [
              "<Figure size 640x480 with 1 Axes>"
            ],
            "image/png": "[encoded data removed]"
          },
          "metadata": {}
        }
      ]
    },
    {
      "cell_type": "markdown",
      "source": [
        "### 3.2.7. ReLU함수\n",
        "입력이 0이상일 때 값을 그대로 출력한다"
      ],
      "metadata": {
        "id": "u9aoW9mWAebS"
      }
    },
    {
      "cell_type": "code",
      "source": [
        "# ReLU함수 구현\n",
        "def relu(x):\n",
        "  return np.maximum(0,x) # 둘 중 큰 값을 반환한다. x가 0보다 클 경우에만 그 값이 반환된다"
      ],
      "metadata": {
        "id": "qOBQo1NfFYjt"
      },
      "execution_count": 111,
      "outputs": []
    },
    {
      "cell_type": "code",
      "source": [
        "relu(10)"
      ],
      "metadata": {
        "colab": {
          "base_uri": "https://localhost:8080/",
          "height": 0
        },
        "id": "xa7GnzF1FoPa",
        "outputId": "510238a4-fd92-4bf8-b60b-77b030e5b91e"
      },
      "execution_count": 112,
      "outputs": [
        {
          "output_type": "execute_result",
          "data": {
            "text/plain": [
              "10"
            ]
          },
          "metadata": {},
          "execution_count": 112
        }
      ]
    },
    {
      "cell_type": "markdown",
      "source": [
        "### 3.3. 다차원 배열의 계산"
      ],
      "metadata": {
        "id": "Z1oaihrnFpj7"
      }
    },
    {
      "cell_type": "code",
      "source": [
        "# 1차원 배열 : 수를 일렬로 늘어 놓은 것\n",
        "\n",
        "import numpy as np\n",
        "A = np.array([1, 2, 3, 4])\n",
        "A"
      ],
      "metadata": {
        "colab": {
          "base_uri": "https://localhost:8080/",
          "height": 0
        },
        "id": "ZvG7FnZAGLOc",
        "outputId": "01a5900c-b150-430c-a4b2-799e6d1ce2de"
      },
      "execution_count": 113,
      "outputs": [
        {
          "output_type": "execute_result",
          "data": {
            "text/plain": [
              "array([1, 2, 3, 4])"
            ]
          },
          "metadata": {},
          "execution_count": 113
        }
      ]
    },
    {
      "cell_type": "code",
      "source": [
        "np.ndim(A) # 해당 배열의 차원(dimention)을 반환"
      ],
      "metadata": {
        "colab": {
          "base_uri": "https://localhost:8080/",
          "height": 0
        },
        "id": "4i5StANyGVTN",
        "outputId": "6cd54565-ad9a-4b99-cc44-c3f02504511e"
      },
      "execution_count": 114,
      "outputs": [
        {
          "output_type": "execute_result",
          "data": {
            "text/plain": [
              "1"
            ]
          },
          "metadata": {},
          "execution_count": 114
        }
      ]
    },
    {
      "cell_type": "code",
      "source": [
        "A.shape"
      ],
      "metadata": {
        "colab": {
          "base_uri": "https://localhost:8080/",
          "height": 0
        },
        "id": "KrdGRjuzGYig",
        "outputId": "844a1960-5839-4b82-bd49-7858468206de"
      },
      "execution_count": 115,
      "outputs": [
        {
          "output_type": "execute_result",
          "data": {
            "text/plain": [
              "(4,)"
            ]
          },
          "metadata": {},
          "execution_count": 115
        }
      ]
    },
    {
      "cell_type": "code",
      "source": [
        "A.shape[0]"
      ],
      "metadata": {
        "colab": {
          "base_uri": "https://localhost:8080/",
          "height": 0
        },
        "id": "_LR5FG0XGfh1",
        "outputId": "a5099e64-14d2-4893-a54d-36931c5a5429"
      },
      "execution_count": 116,
      "outputs": [
        {
          "output_type": "execute_result",
          "data": {
            "text/plain": [
              "4"
            ]
          },
          "metadata": {},
          "execution_count": 116
        }
      ]
    },
    {
      "cell_type": "code",
      "source": [
        "# 2차원 배열을 작성해보자\n",
        "B = np.array([[1,2],[3,4],[5,6]])\n",
        "print(B)\n",
        "print(np.ndim(B)) # B의 차원\n",
        "print(B.shape) # B의 크기"
      ],
      "metadata": {
        "colab": {
          "base_uri": "https://localhost:8080/",
          "height": 0
        },
        "id": "BxH1Rm2hGmsV",
        "outputId": "ede5fcee-07d1-46ff-f584-9ee7d7faadd0"
      },
      "execution_count": 117,
      "outputs": [
        {
          "output_type": "stream",
          "name": "stdout",
          "text": [
            "[[1 2]\n",
            " [3 4]\n",
            " [5 6]]\n",
            "2\n",
            "(3, 2)\n"
          ]
        }
      ]
    },
    {
      "cell_type": "code",
      "source": [
        "# 행렬의 곱 1 : 2x2 2x2\n",
        "A = np.array([[1,2], [3,4]])\n",
        "print(A.shape)\n",
        "B = np.array([[5,6], [7,8]])\n",
        "print(B.shape)\n",
        "np.dot(A,B)"
      ],
      "metadata": {
        "colab": {
          "base_uri": "https://localhost:8080/",
          "height": 0
        },
        "id": "EuM9DqymHQBF",
        "outputId": "a851aa2b-9002-449c-b314-a0ff0dfca90c"
      },
      "execution_count": 118,
      "outputs": [
        {
          "output_type": "stream",
          "name": "stdout",
          "text": [
            "(2, 2)\n",
            "(2, 2)\n"
          ]
        },
        {
          "output_type": "execute_result",
          "data": {
            "text/plain": [
              "array([[19, 22],\n",
              "       [43, 50]])"
            ]
          },
          "metadata": {},
          "execution_count": 118
        }
      ]
    },
    {
      "cell_type": "code",
      "source": [
        "# 행렬의 곱 1 : 2x3 3x2\n",
        "A = np.array([[1,2,3],[4,5,6]])\n",
        "print('A의 크기', A.shape)\n",
        "B = np.array([[1,2],[3,4],[5,6]])\n",
        "print('B의 크기', B.shape)\n",
        "np.dot(A,B)"
      ],
      "metadata": {
        "colab": {
          "base_uri": "https://localhost:8080/",
          "height": 0
        },
        "id": "Ex1fvc6fJuW-",
        "outputId": "2704c524-b4a7-4f22-a425-1aa2b067d4a5"
      },
      "execution_count": 119,
      "outputs": [
        {
          "output_type": "stream",
          "name": "stdout",
          "text": [
            "A의 크기 (2, 3)\n",
            "B의 크기 (3, 2)\n"
          ]
        },
        {
          "output_type": "execute_result",
          "data": {
            "text/plain": [
              "array([[22, 28],\n",
              "       [49, 64]])"
            ]
          },
          "metadata": {},
          "execution_count": 119
        }
      ]
    },
    {
      "cell_type": "code",
      "source": [
        "# 곱하려는 행렬의 크기가 맞지 않는 경우 (A 열의 수 != B의 행의 수)\n",
        "C = np.array([[1,2],[3,4]])\n",
        "print('C의크기', C.shape)\n",
        "print('A의 크기', A.shape)\n",
        "\n",
        "np.dot(A,C) # 오류가 출력된다"
      ],
      "metadata": {
        "colab": {
          "base_uri": "https://localhost:8080/",
          "height": 274
        },
        "id": "Zljb3W7VLESe",
        "outputId": "e84dcb28-7a9f-4107-832d-1645235f73fb"
      },
      "execution_count": 120,
      "outputs": [
        {
          "output_type": "stream",
          "name": "stdout",
          "text": [
            "C의크기 (2, 2)\n",
            "A의 크기 (2, 3)\n"
          ]
        },
        {
          "output_type": "error",
          "ename": "ValueError",
          "evalue": "ignored",
          "traceback": [
            "\u001b[0;31m---------------------------------------------------------------------------\u001b[0m",
            "\u001b[0;31mValueError\u001b[0m                                Traceback (most recent call last)",
            "\u001b[0;32m<ipython-input-120-f4c7a9f4eb3c>\u001b[0m in \u001b[0;36m<cell line: 6>\u001b[0;34m()\u001b[0m\n\u001b[1;32m      4\u001b[0m \u001b[0mprint\u001b[0m\u001b[0;34m(\u001b[0m\u001b[0;34m'A의 크기'\u001b[0m\u001b[0;34m,\u001b[0m \u001b[0mA\u001b[0m\u001b[0;34m.\u001b[0m\u001b[0mshape\u001b[0m\u001b[0;34m)\u001b[0m\u001b[0;34m\u001b[0m\u001b[0;34m\u001b[0m\u001b[0m\n\u001b[1;32m      5\u001b[0m \u001b[0;34m\u001b[0m\u001b[0m\n\u001b[0;32m----> 6\u001b[0;31m \u001b[0mnp\u001b[0m\u001b[0;34m.\u001b[0m\u001b[0mdot\u001b[0m\u001b[0;34m(\u001b[0m\u001b[0mA\u001b[0m\u001b[0;34m,\u001b[0m\u001b[0mC\u001b[0m\u001b[0;34m)\u001b[0m \u001b[0;31m# 오류가 출력된다\u001b[0m\u001b[0;34m\u001b[0m\u001b[0;34m\u001b[0m\u001b[0m\n\u001b[0m",
            "\u001b[0;32m/usr/local/lib/python3.10/dist-packages/numpy/core/overrides.py\u001b[0m in \u001b[0;36mdot\u001b[0;34m(*args, **kwargs)\u001b[0m\n",
            "\u001b[0;31mValueError\u001b[0m: shapes (2,3) and (2,2) not aligned: 3 (dim 1) != 2 (dim 0)"
          ]
        }
      ]
    },
    {
      "cell_type": "markdown",
      "source": [
        "### 신경망에서의 행렬 곱"
      ],
      "metadata": {
        "id": "ZMHF1_sLLlHl"
      }
    },
    {
      "cell_type": "code",
      "source": [
        "# 2개의 입력에 출력은 3개의 노드. 입력 각각에 가중치를 곱해보자 ㅠㅠ\n",
        "X = np.array([1,2])\n",
        "print('행렬 X\\n',X)\n",
        "print('X의 크기',X.shape)\n",
        "W = np.array([[1,3,5], [2,4,6]])\n",
        "print('행렬 W\\n',W)\n",
        "print('W의 크기',W.shape)"
      ],
      "metadata": {
        "colab": {
          "base_uri": "https://localhost:8080/",
          "height": 0
        },
        "id": "GTX4-8oaSiMQ",
        "outputId": "5607b83c-792f-460e-e2b7-bbcaa20fc317"
      },
      "execution_count": 121,
      "outputs": [
        {
          "output_type": "stream",
          "name": "stdout",
          "text": [
            "행렬 X\n",
            " [1 2]\n",
            "X의 크기 (2,)\n",
            "행렬 W\n",
            " [[1 3 5]\n",
            " [2 4 6]]\n",
            "W의 크기 (2, 3)\n"
          ]
        }
      ]
    },
    {
      "cell_type": "code",
      "source": [
        "# (앞 행렬의 열) == (뒤 행렬의 행) 이므로 행렬곱 가능\n",
        "\n",
        "Y = np.dot(X,W)\n",
        "print(Y)"
      ],
      "metadata": {
        "colab": {
          "base_uri": "https://localhost:8080/",
          "height": 0
        },
        "id": "ga9s9kikTovD",
        "outputId": "b50097b1-9f75-4a02-9ead-90433e057fb9"
      },
      "execution_count": 122,
      "outputs": [
        {
          "output_type": "stream",
          "name": "stdout",
          "text": [
            "[ 5 11 17]\n"
          ]
        }
      ]
    },
    {
      "cell_type": "markdown",
      "source": [
        "# 신경망을 코드로 표현해보자"
      ],
      "metadata": {
        "id": "_Sd35PWvUfWy"
      }
    },
    {
      "cell_type": "code",
      "source": [
        "X = np.array([1.0, 0.5]) # 입력\n",
        "W1 = np.array([[0.1,0.3,0.5],[0.2, 0.4, 0.6]])\n",
        "B1 = np.array([0.1,0.2,0.3])\n",
        "\n",
        "print(X.shape)\n",
        "print(W1.shape)\n",
        "print(B1.shape)"
      ],
      "metadata": {
        "colab": {
          "base_uri": "https://localhost:8080/",
          "height": 0
        },
        "id": "TUJsy-Plew_a",
        "outputId": "b4c698af-e696-4d6c-dbeb-aef085c06662"
      },
      "execution_count": 123,
      "outputs": [
        {
          "output_type": "stream",
          "name": "stdout",
          "text": [
            "(2,)\n",
            "(2, 3)\n",
            "(3,)\n"
          ]
        }
      ]
    },
    {
      "cell_type": "code",
      "source": [
        "# 1층의 신경망을 구해보자\n",
        "A1 = np.dot(X, W1) + B1\n",
        "A1"
      ],
      "metadata": {
        "colab": {
          "base_uri": "https://localhost:8080/",
          "height": 0
        },
        "id": "6VrAAxeZfYYe",
        "outputId": "fc6abece-c4b2-4a4c-cd6f-0d3678bda49a"
      },
      "execution_count": 124,
      "outputs": [
        {
          "output_type": "execute_result",
          "data": {
            "text/plain": [
              "array([0.3, 0.7, 1.1])"
            ]
          },
          "metadata": {},
          "execution_count": 124
        }
      ]
    },
    {
      "cell_type": "code",
      "source": [
        "Z1 = sigmoid(A1)\n",
        "print(A1)\n",
        "print(Z1) # 시그모이드 함수 거친 값"
      ],
      "metadata": {
        "colab": {
          "base_uri": "https://localhost:8080/",
          "height": 0
        },
        "id": "1VHXjVmKf6XB",
        "outputId": "4362c3e0-63ac-43d5-a2f3-89ed1705fd04"
      },
      "execution_count": 125,
      "outputs": [
        {
          "output_type": "stream",
          "name": "stdout",
          "text": [
            "[0.3 0.7 1.1]\n",
            "[0.57444252 0.66818777 0.75026011]\n"
          ]
        }
      ]
    },
    {
      "cell_type": "code",
      "source": [
        "# 1층에서 2층의 뉴런을 만들어보자\n",
        "W2 = np.array([[0.1, 0.4],[0.2,0.5],[0.3,0.6]])\n",
        "B2 = np.array([0.1, 0.2])\n",
        "\n",
        "print(Z1.shape) # 1층 뉴런\n",
        "print(W2.shape) # 2층 만들때 곱하는 가중치\n",
        "print(B2.shape) # 2층 만들때의 편향\n",
        "\n",
        "A2 = np.dot(Z1,W2) + B2 # 1층 뉴런 * (to2층) 가중치 + (to2층) 편향\n",
        "Z2 = sigmoid(A2) # 2층의 뉴런을 시그모이드 함수에 넣어 가공된 값을 반환 받는다\n",
        "\n",
        "print('A2 :', A2)\n",
        "print('Z2 :', Z2)\n"
      ],
      "metadata": {
        "colab": {
          "base_uri": "https://localhost:8080/",
          "height": 0
        },
        "id": "Pysh9hgrgjhI",
        "outputId": "4002de47-5432-4bae-be33-51886a428d03"
      },
      "execution_count": 126,
      "outputs": [
        {
          "output_type": "stream",
          "name": "stdout",
          "text": [
            "(3,)\n",
            "(3, 2)\n",
            "(2,)\n",
            "A2 : [0.51615984 1.21402696]\n",
            "Z2 : [0.62624937 0.7710107 ]\n"
          ]
        }
      ]
    },
    {
      "cell_type": "code",
      "source": [
        "# 마지막!!!!! 2층 > 출력층 신호전달을 작성하자!\n",
        "# 출력층으로의 신호전달은 활성화함수만 다르다\n",
        "# 출력층으로의 활성화함수는 받는 값을 그대로 표현한다(항등함수. x=y)\n",
        "\n",
        "def identity_function(x):\n",
        "  return x\n",
        "\n",
        "W3 = np.array([[0.1,0.3],[0.2,0.4]])\n",
        "B3 = np.array([0.1, 0.2])\n",
        "\n",
        "A3 = np.dot(Z2, W3) + B3\n",
        "Y = identity_function(A3)\n",
        "\n",
        "print(A3)\n",
        "print(Y)"
      ],
      "metadata": {
        "colab": {
          "base_uri": "https://localhost:8080/"
        },
        "id": "reBxJ1Axkjlh",
        "outputId": "2f70f661-4a0e-4452-cf76-9850d9033eb4"
      },
      "execution_count": 130,
      "outputs": [
        {
          "output_type": "stream",
          "name": "stdout",
          "text": [
            "[0.31682708 0.69627909]\n",
            "[0.31682708 0.69627909]\n"
          ]
        }
      ]
    },
    {
      "cell_type": "code",
      "source": [],
      "metadata": {
        "id": "DPI0X2JNlv7t"
      },
      "execution_count": 127,
      "outputs": []
    }
  ]
}