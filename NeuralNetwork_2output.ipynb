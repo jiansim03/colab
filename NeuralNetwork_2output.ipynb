{
  "nbformat": 4,
  "nbformat_minor": 0,
  "metadata": {
    "colab": {
      "provenance": [],
      "authorship_tag": "ABX9TyMMckVotTchep/L0ubVy06A",
      "include_colab_link": true
    },
    "kernelspec": {
      "name": "python3",
      "display_name": "Python 3"
    },
    "language_info": {
      "name": "python"
    }
  },
  "cells": [
    {
      "cell_type": "markdown",
      "metadata": {
        "id": "view-in-github",
        "colab_type": "text"
      },
      "source": [
        "<a href=\"https://colab.research.google.com/github/jiansim03/colab/blob/main/NeuralNetwork_2output.ipynb\" target=\"_parent\"><img src=\"https://colab.research.google.com/assets/colab-badge.svg\" alt=\"Open In Colab\"/></a>"
      ]
    },
    {
      "cell_type": "markdown",
      "source": [
        "### 항등함수와 소프트맥스 함수 구현하기\n",
        "- 항등함수 : 입력을 그대로 출력한다\n",
        "- 소프트맥스함수 :\n",
        "(특정 뉴런의 출력값) = (해당 뉴런의 값을 지수로 하는 자연상수) / (해당 뉴런이 속한 층의 모든 뉴런 값을 지수로 넣은 자연상수)"
      ],
      "metadata": {
        "id": "BBzFTbAZofv1"
      }
    },
    {
      "cell_type": "code",
      "source": [
        "import numpy as np\n",
        "\n",
        "a = np.array([0.3, 2.9, 4.0])\n",
        "exp_a = np.exp(a) # 자연상수의 지수에 a를 넣는다\n",
        "print(exp_a)"
      ],
      "metadata": {
        "colab": {
          "base_uri": "https://localhost:8080/"
        },
        "id": "5XgJTpKycfyf",
        "outputId": "9be31d19-525f-4da9-fafb-cd4cd04f808d"
      },
      "execution_count": 5,
      "outputs": [
        {
          "output_type": "stream",
          "name": "stdout",
          "text": [
            "[ 1.34985881 18.17414537 54.59815003]\n"
          ]
        }
      ]
    },
    {
      "cell_type": "code",
      "source": [
        "# 분모\n",
        "sum_exp_a=np.sum(exp_a)\n",
        "sum_exp_a"
      ],
      "metadata": {
        "colab": {
          "base_uri": "https://localhost:8080/"
        },
        "id": "8P_12PdOfgqE",
        "outputId": "dcf8a75b-c20a-4383-8fd5-ca5a5713a61d"
      },
      "execution_count": 7,
      "outputs": [
        {
          "output_type": "execute_result",
          "data": {
            "text/plain": [
              "74.1221542101633"
            ]
          },
          "metadata": {},
          "execution_count": 7
        }
      ]
    },
    {
      "cell_type": "code",
      "source": [
        "y = exp_a / sum_exp_a\n",
        "y"
      ],
      "metadata": {
        "colab": {
          "base_uri": "https://localhost:8080/"
        },
        "id": "ZW625N0MfqMX",
        "outputId": "79379ea7-32eb-4dd3-fb07-12a19e83506c"
      },
      "execution_count": 9,
      "outputs": [
        {
          "output_type": "execute_result",
          "data": {
            "text/plain": [
              "array([0.01821127, 0.24519181, 0.73659691])"
            ]
          },
          "metadata": {},
          "execution_count": 9
        }
      ]
    },
    {
      "cell_type": "code",
      "source": [
        "# 필요할 때 사용할 수 있도록 함수로 정의해놓자\n",
        "def softmax(a):\n",
        "  exp_a = np.exp(a) # 파라미터 값을 자연상수의 지수로 넣는다\n",
        "  sum_exp_a = np.sum(exp_a)\n",
        "  y = exp_a / sum_exp_a # 소프트맥스를 거친 특정 뉴런의 값\n",
        "  return y"
      ],
      "metadata": {
        "id": "SK5EW90df3Ee"
      },
      "execution_count": 10,
      "outputs": []
    },
    {
      "cell_type": "code",
      "source": [
        "layer2 = np.array([0.9,2.0,1.9])\n",
        "softmax(layer2)"
      ],
      "metadata": {
        "colab": {
          "base_uri": "https://localhost:8080/"
        },
        "id": "mR9efDBHgkqH",
        "outputId": "12363fe6-829e-417b-b231-c75781e22869"
      },
      "execution_count": 11,
      "outputs": [
        {
          "output_type": "execute_result",
          "data": {
            "text/plain": [
              "array([0.14875534, 0.44688573, 0.40435893])"
            ]
          },
          "metadata": {},
          "execution_count": 11
        }
      ]
    },
    {
      "cell_type": "markdown",
      "source": [
        "### 소프트맥스 함수 구현 시 주의점\n",
        "- 소프트맥스 함수는 지수함수를 사용하므로 오버플로우 문제가 있다\n",
        "- 오버플로우 : 컴퓨터는 수를 크기가 유한한 데이터로 다루므로, 너무 큰 값을 표현할 수 없는 문제\n",
        "- 소프트맥스 함수에 임의의 정수 C를 곱해 해결하자"
      ],
      "metadata": {
        "id": "pOHxvEiBg3Ys"
      }
    },
    {
      "cell_type": "code",
      "source": [
        "# 그냥 소프트맥스 함수 사용 시\n",
        "a = np.array([1010, 1000,990])\n",
        "np.exp(a) / np.sum(np.exp(a))\n",
        "\n",
        "# nan값을 담은 배열이 출력. 제대로 표현되지 않는다."
      ],
      "metadata": {
        "colab": {
          "base_uri": "https://localhost:8080/"
        },
        "id": "m8fGZifEm950",
        "outputId": "10d9aaab-d290-4742-84dc-56c2bf123ede"
      },
      "execution_count": 13,
      "outputs": [
        {
          "output_type": "stream",
          "name": "stderr",
          "text": [
            "<ipython-input-13-1bf8903433dd>:3: RuntimeWarning: overflow encountered in exp\n",
            "  np.exp(a) / np.sum(np.exp(a))\n",
            "<ipython-input-13-1bf8903433dd>:3: RuntimeWarning: invalid value encountered in true_divide\n",
            "  np.exp(a) / np.sum(np.exp(a))\n"
          ]
        },
        {
          "output_type": "execute_result",
          "data": {
            "text/plain": [
              "array([nan, nan, nan])"
            ]
          },
          "metadata": {},
          "execution_count": 13
        }
      ]
    },
    {
      "cell_type": "code",
      "source": [
        "# 입력 신호 중 최대값인 C를 빼주면 올바르게 계산할 수 있다\n",
        "def softmax(a) :\n",
        "  c = np.max(a)\n",
        "  exp_a = np.exp(a-c) # 오버플로우 대책\n",
        "  sum_exp_a = np.sum(exp_a)\n",
        "  y = exp_a / sum_exp_a\n",
        "\n",
        "  return y"
      ],
      "metadata": {
        "id": "dil2PIIznPZO"
      },
      "execution_count": 14,
      "outputs": []
    },
    {
      "cell_type": "markdown",
      "source": [
        "### 소프트맥스 함수의 특징\n",
        " - 함수의 출력은 0 ~ 1.0 사이의 실수\n",
        " - 소프트맥스 함수의 출력의 총합은 1 - 출력을 확률로 해석할 수도 있다"
      ],
      "metadata": {
        "id": "Zw6aNBQroVp1"
      }
    },
    {
      "cell_type": "code",
      "source": [
        "# 출력되는 값은 0~1.0 사이의 실수\n",
        "a = np.array([0.3, 2.9, 4.0])\n",
        "y = softmax(a)\n",
        "y"
      ],
      "metadata": {
        "colab": {
          "base_uri": "https://localhost:8080/"
        },
        "id": "hP-LTfAsotKT",
        "outputId": "1fbc2ed4-cb6c-4c60-b5b4-aee7efc14b80"
      },
      "execution_count": 21,
      "outputs": [
        {
          "output_type": "execute_result",
          "data": {
            "text/plain": [
              "array([0.01821127, 0.24519181, 0.73659691])"
            ]
          },
          "metadata": {},
          "execution_count": 21
        }
      ]
    },
    {
      "cell_type": "code",
      "source": [
        "#출력의 합 = 1\n",
        "np.sum(y)"
      ],
      "metadata": {
        "colab": {
          "base_uri": "https://localhost:8080/"
        },
        "id": "-4PwKW_Lo5P4",
        "outputId": "dcb3716f-4e25-4fe1-ae1a-0e60f926cb5d"
      },
      "execution_count": 20,
      "outputs": [
        {
          "output_type": "execute_result",
          "data": {
            "text/plain": [
              "1.0"
            ]
          },
          "metadata": {},
          "execution_count": 20
        }
      ]
    }
  ]
}