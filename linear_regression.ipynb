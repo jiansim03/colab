{
  "nbformat": 4,
  "nbformat_minor": 0,
  "metadata": {
    "colab": {
      "provenance": [],
      "authorship_tag": "ABX9TyNyMIZEH62LmlMt5iBk+rAC"
    },
    "kernelspec": {
      "name": "python3",
      "display_name": "Python 3"
    },
    "language_info": {
      "name": "python"
    }
  },
  "cells": [
    {
      "cell_type": "code",
      "source": [
        "import numpy as np"
      ],
      "metadata": {
        "id": "DsSq84Z_RK4a"
      },
      "execution_count": 2,
      "outputs": []
    },
    {
      "cell_type": "code",
      "execution_count": 4,
      "metadata": {
        "id": "4hMwFUGzP9h1"
      },
      "outputs": [],
      "source": [
        "# 농어 데이터\n",
        "# 농어의 길이로 무게를 예측해보자\n",
        "\n",
        "perch_length = np.array([8.4, 13.7, 15.0, 16.2, 17.4, 18.0, 18.7, 19.0, 19.6, 20.0, 21.0,\n",
        "       21.0, 21.0, 21.3, 22.0, 22.0, 22.0, 22.0, 22.0, 22.5, 22.5, 22.7,\n",
        "       23.0, 23.5, 24.0, 24.0, 24.6, 25.0, 25.6, 26.5, 27.3, 27.5, 27.5,\n",
        "       27.5, 28.0, 28.7, 30.0, 32.8, 34.5, 35.0, 36.5, 36.0, 37.0, 37.0,\n",
        "       39.0, 39.0, 39.0, 40.0, 40.0, 40.0, 40.0, 42.0, 43.0, 43.0, 43.5,\n",
        "       44.0])\n",
        "perch_weight = np.array([5.9, 32.0, 40.0, 51.5, 70.0, 100.0, 78.0, 80.0, 85.0, 85.0, 110.0,\n",
        "       115.0, 125.0, 130.0, 120.0, 120.0, 130.0, 135.0, 110.0, 130.0,\n",
        "       150.0, 145.0, 150.0, 170.0, 225.0, 145.0, 188.0, 180.0, 197.0,\n",
        "       218.0, 300.0, 260.0, 265.0, 250.0, 250.0, 300.0, 320.0, 514.0,\n",
        "       556.0, 840.0, 685.0, 700.0, 700.0, 690.0, 900.0, 650.0, 820.0,\n",
        "       850.0, 900.0, 1015.0, 820.0, 1100.0, 1000.0, 1100.0, 1000.0,\n",
        "       1000.0])"
      ]
    },
    {
      "cell_type": "code",
      "source": [
        "# 훈련세트와 테스트세트로 나눈다.\n",
        "from sklearn.model_selection import train_test_split\n",
        "\n",
        "train_input, test_input, train_target, test_target = train_test_split(perch_length, perch_weight, random_state=42)"
      ],
      "metadata": {
        "id": "89FQiJBMQPNc"
      },
      "execution_count": 5,
      "outputs": []
    },
    {
      "cell_type": "code",
      "source": [
        "train_input.shape, test_input.shape, train_target.shape, test_target.shape"
      ],
      "metadata": {
        "colab": {
          "base_uri": "https://localhost:8080/"
        },
        "id": "Hwbf1di3RnzO",
        "outputId": "a548fba4-2575-4472-b978-0d9faeb824fa"
      },
      "execution_count": 6,
      "outputs": [
        {
          "output_type": "execute_result",
          "data": {
            "text/plain": [
              "((42,), (14,), (42,), (14,))"
            ]
          },
          "metadata": {},
          "execution_count": 6
        }
      ]
    },
    {
      "cell_type": "code",
      "source": [
        "# 특성데이터를 2차원 배열로 변환\n",
        "# numpy의 reshape() 메서드를 사용한다\n",
        "train_input = train_input.reshape(-1, 1) # 변형 원하는 크기 입력 (행,열)\n",
        "test_input = test_input.reshape(-1, 1)"
      ],
      "metadata": {
        "id": "dvGtisg-RxcL"
      },
      "execution_count": 7,
      "outputs": []
    },
    {
      "cell_type": "code",
      "source": [
        "from sklearn.neighbors import KNeighborsRegressor\n",
        "knr = KNeighborsRegressor(n_neighbors=3)\n",
        "\n",
        "# 훈련\n",
        "knr.fit(train_input, train_target) # train용 데이터"
      ],
      "metadata": {
        "colab": {
          "base_uri": "https://localhost:8080/",
          "height": 75
        },
        "id": "I8ek31u6XEle",
        "outputId": "fb9a84b2-8262-4bfb-9cfd-e06817c46196"
      },
      "execution_count": 8,
      "outputs": [
        {
          "output_type": "execute_result",
          "data": {
            "text/plain": [
              "KNeighborsRegressor(n_neighbors=3)"
            ],
            "text/html": [
              "<style>#sk-container-id-1 {color: black;background-color: white;}#sk-container-id-1 pre{padding: 0;}#sk-container-id-1 div.sk-toggleable {background-color: white;}#sk-container-id-1 label.sk-toggleable__label {cursor: pointer;display: block;width: 100%;margin-bottom: 0;padding: 0.3em;box-sizing: border-box;text-align: center;}#sk-container-id-1 label.sk-toggleable__label-arrow:before {content: \"▸\";float: left;margin-right: 0.25em;color: #696969;}#sk-container-id-1 label.sk-toggleable__label-arrow:hover:before {color: black;}#sk-container-id-1 div.sk-estimator:hover label.sk-toggleable__label-arrow:before {color: black;}#sk-container-id-1 div.sk-toggleable__content {max-height: 0;max-width: 0;overflow: hidden;text-align: left;background-color: #f0f8ff;}#sk-container-id-1 div.sk-toggleable__content pre {margin: 0.2em;color: black;border-radius: 0.25em;background-color: #f0f8ff;}#sk-container-id-1 input.sk-toggleable__control:checked~div.sk-toggleable__content {max-height: 200px;max-width: 100%;overflow: auto;}#sk-container-id-1 input.sk-toggleable__control:checked~label.sk-toggleable__label-arrow:before {content: \"▾\";}#sk-container-id-1 div.sk-estimator input.sk-toggleable__control:checked~label.sk-toggleable__label {background-color: #d4ebff;}#sk-container-id-1 div.sk-label input.sk-toggleable__control:checked~label.sk-toggleable__label {background-color: #d4ebff;}#sk-container-id-1 input.sk-hidden--visually {border: 0;clip: rect(1px 1px 1px 1px);clip: rect(1px, 1px, 1px, 1px);height: 1px;margin: -1px;overflow: hidden;padding: 0;position: absolute;width: 1px;}#sk-container-id-1 div.sk-estimator {font-family: monospace;background-color: #f0f8ff;border: 1px dotted black;border-radius: 0.25em;box-sizing: border-box;margin-bottom: 0.5em;}#sk-container-id-1 div.sk-estimator:hover {background-color: #d4ebff;}#sk-container-id-1 div.sk-parallel-item::after {content: \"\";width: 100%;border-bottom: 1px solid gray;flex-grow: 1;}#sk-container-id-1 div.sk-label:hover label.sk-toggleable__label {background-color: #d4ebff;}#sk-container-id-1 div.sk-serial::before {content: \"\";position: absolute;border-left: 1px solid gray;box-sizing: border-box;top: 0;bottom: 0;left: 50%;z-index: 0;}#sk-container-id-1 div.sk-serial {display: flex;flex-direction: column;align-items: center;background-color: white;padding-right: 0.2em;padding-left: 0.2em;position: relative;}#sk-container-id-1 div.sk-item {position: relative;z-index: 1;}#sk-container-id-1 div.sk-parallel {display: flex;align-items: stretch;justify-content: center;background-color: white;position: relative;}#sk-container-id-1 div.sk-item::before, #sk-container-id-1 div.sk-parallel-item::before {content: \"\";position: absolute;border-left: 1px solid gray;box-sizing: border-box;top: 0;bottom: 0;left: 50%;z-index: -1;}#sk-container-id-1 div.sk-parallel-item {display: flex;flex-direction: column;z-index: 1;position: relative;background-color: white;}#sk-container-id-1 div.sk-parallel-item:first-child::after {align-self: flex-end;width: 50%;}#sk-container-id-1 div.sk-parallel-item:last-child::after {align-self: flex-start;width: 50%;}#sk-container-id-1 div.sk-parallel-item:only-child::after {width: 0;}#sk-container-id-1 div.sk-dashed-wrapped {border: 1px dashed gray;margin: 0 0.4em 0.5em 0.4em;box-sizing: border-box;padding-bottom: 0.4em;background-color: white;}#sk-container-id-1 div.sk-label label {font-family: monospace;font-weight: bold;display: inline-block;line-height: 1.2em;}#sk-container-id-1 div.sk-label-container {text-align: center;}#sk-container-id-1 div.sk-container {/* jupyter's `normalize.less` sets `[hidden] { display: none; }` but bootstrap.min.css set `[hidden] { display: none !important; }` so we also need the `!important` here to be able to override the default hidden behavior on the sphinx rendered scikit-learn.org. See: https://github.com/scikit-learn/scikit-learn/issues/21755 */display: inline-block !important;position: relative;}#sk-container-id-1 div.sk-text-repr-fallback {display: none;}</style><div id=\"sk-container-id-1\" class=\"sk-top-container\"><div class=\"sk-text-repr-fallback\"><pre>KNeighborsRegressor(n_neighbors=3)</pre><b>In a Jupyter environment, please rerun this cell to show the HTML representation or trust the notebook. <br />On GitHub, the HTML representation is unable to render, please try loading this page with nbviewer.org.</b></div><div class=\"sk-container\" hidden><div class=\"sk-item\"><div class=\"sk-estimator sk-toggleable\"><input class=\"sk-toggleable__control sk-hidden--visually\" id=\"sk-estimator-id-1\" type=\"checkbox\" checked><label for=\"sk-estimator-id-1\" class=\"sk-toggleable__label sk-toggleable__label-arrow\">KNeighborsRegressor</label><div class=\"sk-toggleable__content\"><pre>KNeighborsRegressor(n_neighbors=3)</pre></div></div></div></div></div>"
            ]
          },
          "metadata": {},
          "execution_count": 8
        }
      ]
    },
    {
      "cell_type": "code",
      "source": [
        "knr.predict([[50]]) # 농어의 길이가 50cm이면 무게가 몇이니\n",
        "# array([1033.33333333])\n",
        "# 실제 농어의 무게는 이보다 훨씬 더 나간다. 무엇이 문제일까?"
      ],
      "metadata": {
        "colab": {
          "base_uri": "https://localhost:8080/"
        },
        "id": "DnZm0lvBXY4Y",
        "outputId": "8883b56f-d47e-4ea1-8c09-7f3a7dc448fd"
      },
      "execution_count": 10,
      "outputs": [
        {
          "output_type": "execute_result",
          "data": {
            "text/plain": [
              "array([1033.33333333])"
            ]
          },
          "metadata": {},
          "execution_count": 10
        }
      ]
    },
    {
      "cell_type": "code",
      "source": [
        "from scipy.spatial import distance\n",
        "# 문제 파악을 위해 시각화해보자\n",
        "# 먼저 k-최근접이웃 모델의 kneighbors 메서드를 이용하여 해당 농어와 제일 가까운 이웃의 인덱스를 얻자\n",
        "\n",
        "distance, indexes = knr.kneighbors([[50]]) # 무게가 50인 농어의 이웃의 거리와 인덱스를 반환해줘\n",
        "distance, indexes"
      ],
      "metadata": {
        "colab": {
          "base_uri": "https://localhost:8080/"
        },
        "id": "yS9u8u1SXeaI",
        "outputId": "6d4de54a-b32a-4129-a644-b75d3508b47c"
      },
      "execution_count": 12,
      "outputs": [
        {
          "output_type": "execute_result",
          "data": {
            "text/plain": [
              "(array([[6., 7., 7.]]), array([[34,  8, 14]]))"
            ]
          },
          "metadata": {},
          "execution_count": 12
        }
      ]
    },
    {
      "cell_type": "code",
      "source": [
        "# 위 데이터를 바탕으로 산점도를 그려보자\n",
        "import matplotlib.pyplot as plt\n",
        "plt.scatter(train_input, train_target) # 전체 농어의 데이터 x:길이 y:무게\n",
        "\n",
        "# 수상한 농어의 이웃만 다시 그려보자\n",
        "# 전체 농어 배열 데이터의 인덱스란에, 위에서 얻어낸 이웃 농어들의 인덱스를 담은 변수를 넣는다\n",
        "plt.scatter(train_input[indexes], train_target[indexes], marker='D')\n",
        "\n",
        "# 수상한 농어도 표시해보자\n",
        "plt.scatter(50,1033, marker=\"^\")\n",
        "plt.xlabel('length')\n",
        "plt.ylabel('weight')\n",
        "plt.show()\n"
      ],
      "metadata": {
        "colab": {
          "base_uri": "https://localhost:8080/",
          "height": 449
        },
        "id": "coEZlJb8YK8U",
        "outputId": "2de25179-0395-44a3-9bf2-6f0475f5d8b2"
      },
      "execution_count": 14,
      "outputs": [
        {
          "output_type": "display_data",
          "data": {
            "text/plain": [
              "<Figure size 640x480 with 1 Axes>"
            ],
            "image/png": "[encoded data removed]"
          },
          "metadata": {}
        }
      ]
    },
    {
      "cell_type": "code",
      "source": [
        "#(수상한농어의 무게) = (수상한 농어의 최근방이웃 3마리 농어의 무게의 평균)\n",
        "# 위 산점도를 보면 이웃 농어들의 무게가 1000언저리에서 머무른다.\n",
        "# 직접 이웃들의 평균을 내어 확인해보자\n",
        "\n",
        "np.mean(train_target[indexes])\n",
        "\n",
        "# 1033.3333333333333\n",
        "# 아까 예측값과 일치한다\n",
        "\n",
        "# 즉, k-최근접이웃회귀는 가장 가까운 샘플을 찾아 타깃을 평균하므로, 새로운 샘플이 훈련 세트의 범위를 벗어나면 엉뚱한 값을 예측할 수 있다"
      ],
      "metadata": {
        "colab": {
          "base_uri": "https://localhost:8080/"
        },
        "id": "HA2xOFbqZAa7",
        "outputId": "ffb7f775-7baf-4ee1-f017-6e4aef8ee154"
      },
      "execution_count": 15,
      "outputs": [
        {
          "output_type": "execute_result",
          "data": {
            "text/plain": [
              "1033.3333333333333"
            ]
          },
          "metadata": {},
          "execution_count": 15
        }
      ]
    },
    {
      "cell_type": "code",
      "source": [
        "### 이번엔 100cm 농어의 무게를 예측해보자\n",
        "# 위의 논리대로라면 여전히 최근방 이웃 농어 무게의 평균인 1000 언저리로 예측할 것"
      ],
      "metadata": {
        "id": "ji3H34DrZszc"
      },
      "execution_count": 16,
      "outputs": []
    },
    {
      "cell_type": "code",
      "source": [
        "distances, indexes = knr.kneighbors([[100]])\n",
        "\n",
        "# 훈련세트의 산점도\n",
        "plt.scatter(train_input, train_target)\n",
        "\n",
        "# 훈련 세트 중 이웃들\n",
        "plt.scatter(train_input[indexes], train_target[indexes], marker=\"D\")\n",
        "\n",
        "# 100cm 농어\n",
        "plt.scatter(100, 1033, marker=\"^\")\n",
        "plt.xlabel('length')\n",
        "plt.ylabel('weight')\n",
        "plt.show()"
      ],
      "metadata": {
        "colab": {
          "base_uri": "https://localhost:8080/",
          "height": 449
        },
        "id": "VEskpW75cdQp",
        "outputId": "75d3eca9-8055-4e24-c036-f10a166fe1bb"
      },
      "execution_count": 18,
      "outputs": [
        {
          "output_type": "display_data",
          "data": {
            "text/plain": [
              "<Figure size 640x480 with 1 Axes>"
            ],
            "image/png": "[encoded data removed]"
          },
          "metadata": {}
        }
      ]
    },
    {
      "cell_type": "markdown",
      "source": [
        "### 선형회귀\n",
        "- 특성이 하나인 어떤 직선을 학습하는 알고리즘\n",
        "- 직선은 데이터의 특성을 잘 나타낼 수 있어야 한다\n",
        "- 결정계수의 절대값이 낮으면 그 직선이 데이터를 잘 나타낸다고 볼 수 있다\n",
        "- 이것을 구현한 것이 사이킷런의 **LinearRegression** 클래스"
      ],
      "metadata": {
        "id": "O_69BeZkdMuS"
      }
    },
    {
      "cell_type": "code",
      "source": [
        "from sklearn.linear_model import LinearRegression\n",
        "lr = LinearRegression()\n",
        "\n",
        "# 선형회귀 모델을 훈련한다\n",
        "lr.fit(train_input, train_target)\n",
        "\n",
        "# 수상한 농어를 예측하자\n",
        "lr.predict([[50]])\n",
        "\n",
        "# array([1241.83860323])\n",
        "# 아까보다 200cm 정도 큰 값...잘 예측하는 듯하다"
      ],
      "metadata": {
        "colab": {
          "base_uri": "https://localhost:8080/"
        },
        "id": "3U4BkGMrd2Jg",
        "outputId": "54c536bb-76ba-4fab-8bb0-963c07778934"
      },
      "execution_count": 19,
      "outputs": [
        {
          "output_type": "execute_result",
          "data": {
            "text/plain": [
              "array([1241.83860323])"
            ]
          },
          "metadata": {},
          "execution_count": 19
        }
      ]
    },
    {
      "cell_type": "markdown",
      "source": [
        "### 선형회귀 모델의 파라미터\n",
        "- coef_ : 계수. 즉 직선의 기울기\n",
        "- intercept_ : 절편. x가 0일때 y의 값\n",
        "\n",
        "> **💡 모델기반 학습 vs 사례기반 학습**  \n",
        "대다수 머신러닝 모델에서 훈련이란, 최적의 파라미터를 찾는 것과 같다. 이것을 **모델기반 학습**이라고 한다.  \n",
        "반면 k_최근접이웃 모델에는 파라미터가 없고, 훈련세트를 저장하는 것이 전부였다.이것을 **사례기반 학습**이라고 한다.\n"
      ],
      "metadata": {
        "id": "XnsCoFieeTED"
      }
    },
    {
      "cell_type": "code",
      "source": [
        "# lr 객체의 coef_, intercept_ 모델에서 직선의 기울기와 절편을 확인해보자\n",
        "lr.coef_, lr.intercept_"
      ],
      "metadata": {
        "colab": {
          "base_uri": "https://localhost:8080/"
        },
        "id": "D5U43YJmfAk5",
        "outputId": "75f6ef73-26cc-446a-8366-915fd25bfadc"
      },
      "execution_count": 23,
      "outputs": [
        {
          "output_type": "execute_result",
          "data": {
            "text/plain": [
              "(array([39.01714496]), -709.0186449535477)"
            ]
          },
          "metadata": {},
          "execution_count": 23
        }
      ]
    },
    {
      "cell_type": "code",
      "source": [
        "# 위 직선을 길이 15에서 50까지를 범위로 하여 그려보자\n",
        "\n",
        "# 훈련세트의 산점도\n",
        "plt.scatter(train_input, train_target)\n",
        "\n",
        "# 15~50까지 1차 방정식 그래프\n",
        "plt.plot([15,50], [15*lr.coef_+lr.intercept_,50*lr.coef_+lr.intercept_], c='c')\n",
        "\n",
        "# 50cm 농어도 그리자\n",
        "plt.scatter(50, 1241.8, marker=\"^\")\n",
        "plt.xlabel('length')\n",
        "plt.ylabel('weight')\n",
        "plt.show()"
      ],
      "metadata": {
        "colab": {
          "base_uri": "https://localhost:8080/",
          "height": 449
        },
        "id": "tsbD8Swlf_Mf",
        "outputId": "aea1fbf1-8670-4682-d532-553476b26b50"
      },
      "execution_count": 28,
      "outputs": [
        {
          "output_type": "display_data",
          "data": {
            "text/plain": [
              "<Figure size 640x480 with 1 Axes>"
            ],
            "image/png": "[encoded data removed]"
          },
          "metadata": {}
        }
      ]
    },
    {
      "cell_type": "code",
      "source": [
        "# 오버피팅 여부를 파악하기 위해 훈련세트와 테스트 세트의 R^2값도 확인한다\n",
        "print(lr.score(train_input, train_target))\n",
        "print(lr.score(test_input, test_target))\n",
        "\n",
        "# 0.939846333997604\n",
        "# 0.8247503123313558"
      ],
      "metadata": {
        "colab": {
          "base_uri": "https://localhost:8080/"
        },
        "id": "vToT-AQWg3Or",
        "outputId": "89cf7f6e-fbd6-43d8-9278-7c842c9d7089"
      },
      "execution_count": 30,
      "outputs": [
        {
          "output_type": "stream",
          "name": "stdout",
          "text": [
            "0.939846333997604\n",
            "0.8247503123313558\n"
          ]
        }
      ]
    },
    {
      "cell_type": "markdown",
      "source": [
        "위 값을 보면 다소 차이가 난다.... 근데 그래프 자체도 이상하다. 직선을 그리면 왼쪽 끝이 음수가 된다. 무게가 -인 농어는 없다.  \n",
        "이 농어를 잘 나타내는 그래프는 직선보다는 곡선에 가깝다. 농어의 데이터를 제곱하여 새로운 열을 원래데이터에 붙인 후 곡선그래프를 그려보자\n",
        "- **colum_stack** : 원래 데이터(train,test 모두!)의 앞에 새로운 데이터를 붙일 때 사용하는 넘파이의 메서드이다"
      ],
      "metadata": {
        "id": "zPEoUp_EicnA"
      }
    },
    {
      "cell_type": "code",
      "source": [
        "train_poly = np.column_stack((train_input**2, train_input))\n",
        "test_poly = np.column_stack((test_input**2, test_input))"
      ],
      "metadata": {
        "id": "p2CNAKpahccT"
      },
      "execution_count": 32,
      "outputs": []
    },
    {
      "cell_type": "code",
      "source": [
        "# 잘 붙여졌는지 배열의 크기를 확인해보자\n",
        "train_poly.shape,test_poly.shape"
      ],
      "metadata": {
        "colab": {
          "base_uri": "https://localhost:8080/"
        },
        "id": "zZyUs1FxjJQ9",
        "outputId": "0c14a276-6ec1-4796-f09f-d7c5853798a5"
      },
      "execution_count": 33,
      "outputs": [
        {
          "output_type": "execute_result",
          "data": {
            "text/plain": [
              "((42, 2), (14, 2))"
            ]
          },
          "metadata": {},
          "execution_count": 33
        }
      ]
    },
    {
      "cell_type": "code",
      "source": [
        "# 직접 확인도 해보자\n",
        "train_poly # 맨 앞에 길이를 제곱한 열이 추가되었다"
      ],
      "metadata": {
        "colab": {
          "base_uri": "https://localhost:8080/"
        },
        "id": "HxFhjoZIjRLA",
        "outputId": "5918a1f5-a717-4882-f458-0c2e0f8ae7bb"
      },
      "execution_count": 35,
      "outputs": [
        {
          "output_type": "execute_result",
          "data": {
            "text/plain": [
              "array([[ 384.16,   19.6 ],\n",
              "       [ 484.  ,   22.  ],\n",
              "       [ 349.69,   18.7 ],\n",
              "       [ 302.76,   17.4 ],\n",
              "       [1296.  ,   36.  ],\n",
              "       [ 625.  ,   25.  ],\n",
              "       [1600.  ,   40.  ],\n",
              "       [1521.  ,   39.  ],\n",
              "       [1849.  ,   43.  ],\n",
              "       [ 484.  ,   22.  ],\n",
              "       [ 400.  ,   20.  ],\n",
              "       [ 484.  ,   22.  ],\n",
              "       [ 576.  ,   24.  ],\n",
              "       [ 756.25,   27.5 ],\n",
              "       [1849.  ,   43.  ],\n",
              "       [1600.  ,   40.  ],\n",
              "       [ 576.  ,   24.  ],\n",
              "       [ 441.  ,   21.  ],\n",
              "       [ 756.25,   27.5 ],\n",
              "       [1600.  ,   40.  ],\n",
              "       [1075.84,   32.8 ],\n",
              "       [ 702.25,   26.5 ],\n",
              "       [1332.25,   36.5 ],\n",
              "       [ 187.69,   13.7 ],\n",
              "       [ 515.29,   22.7 ],\n",
              "       [ 225.  ,   15.  ],\n",
              "       [1369.  ,   37.  ],\n",
              "       [1225.  ,   35.  ],\n",
              "       [ 823.69,   28.7 ],\n",
              "       [ 552.25,   23.5 ],\n",
              "       [1521.  ,   39.  ],\n",
              "       [ 441.  ,   21.  ],\n",
              "       [ 529.  ,   23.  ],\n",
              "       [ 484.  ,   22.  ],\n",
              "       [1936.  ,   44.  ],\n",
              "       [ 506.25,   22.5 ],\n",
              "       [ 361.  ,   19.  ],\n",
              "       [1369.  ,   37.  ],\n",
              "       [ 484.  ,   22.  ],\n",
              "       [ 655.36,   25.6 ],\n",
              "       [1764.  ,   42.  ],\n",
              "       [1190.25,   34.5 ]])"
            ]
          },
          "metadata": {},
          "execution_count": 35
        }
      ]
    },
    {
      "cell_type": "code",
      "source": [
        "# 이제 무게 50cm 농어의 무게를 예측해보자\n",
        "# 훈련 시 모델에 농어 길이 제곱한 것과 길이를 함께 넣어줬으므로(배열로 묶어서), 예측할 때도 두 값을 모두 넣어준다\n",
        "lr = LinearRegression()\n",
        "lr.fit(train_poly, train_target)\n",
        "lr.predict([[50**2, 50]])\n",
        "\n",
        "## array([1573.98423528])"
      ],
      "metadata": {
        "colab": {
          "base_uri": "https://localhost:8080/"
        },
        "id": "loSk4NWtjVNI",
        "outputId": "11b4e01c-2974-42ba-b2a9-c5a0654a3f04"
      },
      "execution_count": 44,
      "outputs": [
        {
          "output_type": "execute_result",
          "data": {
            "text/plain": [
              "array([1573.98423528])"
            ]
          },
          "metadata": {},
          "execution_count": 44
        }
      ]
    },
    {
      "cell_type": "code",
      "source": [
        "# 새로운 곡선의 계수와 y절편도 확인해보자\n",
        "lr.coef_, lr.intercept_\n",
        "\n",
        "# (array([  1.01433211, -21.55792498]), 116.0502107827827)\n",
        "# [x^2의 계수, x의 계수], y 절편\n",
        "# y = 1.01 * x^2 -21.6 * x + 116.05\n",
        "# 다항식으로 이루어진 그래프를 이용한 모델을 다항회귀한다"
      ],
      "metadata": {
        "colab": {
          "base_uri": "https://localhost:8080/"
        },
        "id": "P9t9DHURkDvo",
        "outputId": "a08c2b2d-106a-463f-b6e3-a82ebe4fca62"
      },
      "execution_count": 45,
      "outputs": [
        {
          "output_type": "execute_result",
          "data": {
            "text/plain": [
              "(array([  1.01433211, -21.55792498]), 116.0502107827827)"
            ]
          },
          "metadata": {},
          "execution_count": 45
        }
      ]
    },
    {
      "cell_type": "code",
      "source": [
        "# 곡선과 산점도도 그려보자\n",
        "\n",
        "# 구간별 직선을 그리기 위해 15~49까지 정수 배열을 만든다\n",
        "point = np.arange(15,50)\n",
        "\n",
        "# 훈련세트의 산점도를 그린다\n",
        "plt.scatter(train_input, train_target)\n",
        "\n",
        "# 15~49까지 2차 방정식 그래프를 그리자\n",
        "plt.plot(point, 1.01*point**2 -21.6*point + 116.05, c='m')\n",
        "\n",
        "# 50cm 농어 데이터도 표시하자\n",
        "plt.scatter(50,1574, marker=\"^\")\n",
        "plt.xlabel('length')\n",
        "plt.ylabel('weight')\n",
        "plt.show()\n",
        "\n",
        "# 훈련세트의 경향을 잘 따르면서, 무게가 음수가 나올 일도 없어졌다!"
      ],
      "metadata": {
        "colab": {
          "base_uri": "https://localhost:8080/",
          "height": 449
        },
        "id": "-y5uXZ_UkPm0",
        "outputId": "fcb5e0fe-6835-4973-8169-48dae1a78179"
      },
      "execution_count": 46,
      "outputs": [
        {
          "output_type": "display_data",
          "data": {
            "text/plain": [
              "<Figure size 640x480 with 1 Axes>"
            ],
            "image/png": "[encoded data removed]"
          },
          "metadata": {}
        }
      ]
    },
    {
      "cell_type": "code",
      "source": [
        "# 훈련세트, 테스트세트 각각에 대해 R^2도 구해보자\n",
        "print(lr.score(train_poly, train_target))\n",
        "print(lr.score(test_poly, test_target))\n",
        "\n",
        "# 점수가 크게 좋아졌다.\n",
        "# 하지만 테스트세트 점수 > 훈련세트 점수 이므로 과소적합문제가 남아있다"
      ],
      "metadata": {
        "colab": {
          "base_uri": "https://localhost:8080/"
        },
        "id": "QnuJ6ZNlluKv",
        "outputId": "ed257444-727d-4266-d27a-f91f4808738b"
      },
      "execution_count": 48,
      "outputs": [
        {
          "output_type": "stream",
          "name": "stdout",
          "text": [
            "0.9706807451768623\n",
            "0.9775935108325122\n"
          ]
        }
      ]
    }
  ]
}